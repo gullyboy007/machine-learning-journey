{
  "nbformat": 4,
  "nbformat_minor": 0,
  "metadata": {
    "colab": {
      "name": "Copy of stock-prediction-lstm.ipynb",
      "provenance": [],
      "collapsed_sections": [],
      "authorship_tag": "ABX9TyOh1o8znqVbMT8sQTnPy6AP",
      "include_colab_link": true
    },
    "kernelspec": {
      "name": "python3",
      "display_name": "Python 3"
    }
  },
  "cells": [
    {
      "cell_type": "markdown",
      "metadata": {
        "id": "view-in-github",
        "colab_type": "text"
      },
      "source": [
        "<a href=\"https://colab.research.google.com/github/gullyboy007/machine-learning-journey/blob/master/Copy_of_stock_prediction_lstm.ipynb\" target=\"_parent\"><img src=\"https://colab.research.google.com/assets/colab-badge.svg\" alt=\"Open In Colab\"/></a>"
      ]
    },
    {
      "cell_type": "code",
      "metadata": {
        "id": "BKDNzydr5VGR",
        "colab_type": "code",
        "colab": {}
      },
      "source": [
        "# Specify stocks to concatenate and specify those to use as features. \n",
        "Training_assets=[...] # i.e. currencies, or other stocks\n",
        "Feature_assets[...] # i.e. related stocks\n",
        "For stock in Training_assets:\n",
        "  Download/update stock from IB\n",
        "  Merge in News sentiments\n",
        "  Add extra variables like MACD, Boilinger Bands, etc.\n",
        "  Download Feature_assets and append to stock\n",
        "  Normalize\n",
        "  Concatenate with the previous training stock"
      ],
      "execution_count": 0,
      "outputs": []
    },
    {
      "cell_type": "code",
      "metadata": {
        "id": "CaJDB6DARzuS",
        "colab_type": "code",
        "colab": {}
      },
      "source": [
        "def gru_cell(state_size):\n",
        "  cell = tf.contrib.rnn.GRUCell(state_size)\n",
        "  return cell\n",
        "# Inputs\n",
        "inputs = tf.placeholder(tf.float32, [None, seq_len, len(variables)])\n",
        "labels = tf.placeholder(tf.float32, [None ,n_outputs])\n",
        "# Placeholder for dropout to switch on and off for training/inference\n",
        "keep_prob = tf.placeholder(tf.float32)\n",
        "# Run the data through the RNN layers\n",
        "batch_size = tf.shape(inputs)[0]\n",
        "initial_state = tf.zeros([batch_size, num_layers * size])\n",
        "cell = tf.contrib.rnn.MultiRNNCell([gru_cell(size) for _ in range(num_layers)], state_is_tuple=False)\n",
        "outputs, final_state = tf.nn.dynamic_rnn(cell, inputs, initial_state=initial_state) \n",
        "# Then feed into a dropout layer\n",
        "dense_layer = tf.contrib.layers.dropout(outputs[:,-1], keep_prob=keep_prob)\n",
        "# ... and a dense layer\n",
        "dense_layer = tf.layers.dense(dense_layer, dense_units, activation=tf.nn.selu)\n",
        "# ... followed by a single node dense layer\n",
        "final_predictions = tf.layers.dense(dense_layer,n_outputs,activation=tf.sigmoid)"
      ],
      "execution_count": 0,
      "outputs": []
    },
    {
      "cell_type": "code",
      "metadata": {
        "id": "IjktcadeR4i7",
        "colab_type": "code",
        "colab": {}
      },
      "source": [
        "cost = (1-Accuracy) + tf.losses.mean_squared_error(labels, final_predictions)"
      ],
      "execution_count": 0,
      "outputs": []
    },
    {
      "cell_type": "code",
      "metadata": {
        "id": "4Ru35hgvR4mW",
        "colab_type": "code",
        "colab": {}
      },
      "source": [
        ""
      ],
      "execution_count": 0,
      "outputs": []
    },
    {
      "cell_type": "code",
      "metadata": {
        "id": "zCChJKktR4rW",
        "colab_type": "code",
        "colab": {}
      },
      "source": [
        ""
      ],
      "execution_count": 0,
      "outputs": []
    },
    {
      "cell_type": "code",
      "metadata": {
        "id": "F_gO8-XYR4uC",
        "colab_type": "code",
        "colab": {}
      },
      "source": [
        ""
      ],
      "execution_count": 0,
      "outputs": []
    },
    {
      "cell_type": "code",
      "metadata": {
        "id": "MiASlsEQR4yl",
        "colab_type": "code",
        "colab": {}
      },
      "source": [
        ""
      ],
      "execution_count": 0,
      "outputs": []
    },
    {
      "cell_type": "code",
      "metadata": {
        "id": "qLKTgUZtR439",
        "colab_type": "code",
        "colab": {}
      },
      "source": [
        ""
      ],
      "execution_count": 0,
      "outputs": []
    },
    {
      "cell_type": "code",
      "metadata": {
        "id": "rwEh3iKRR41e",
        "colab_type": "code",
        "colab": {}
      },
      "source": [
        ""
      ],
      "execution_count": 0,
      "outputs": []
    },
    {
      "cell_type": "code",
      "metadata": {
        "id": "grWRfrNWR4pP",
        "colab_type": "code",
        "colab": {}
      },
      "source": [
        ""
      ],
      "execution_count": 0,
      "outputs": []
    }
  ]
}